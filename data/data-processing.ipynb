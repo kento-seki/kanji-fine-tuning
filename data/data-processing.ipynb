{
 "cells": [
  {
   "cell_type": "code",
   "execution_count": 27,
   "metadata": {},
   "outputs": [],
   "source": [
    "import pandas as pd"
   ]
  },
  {
   "cell_type": "code",
   "execution_count": 28,
   "metadata": {},
   "outputs": [],
   "source": [
    "# read JSON file and remove all unnecessary columns\n",
    "df = pd.read_json('kanji-individual.json') \\\n",
    "    .transpose() \\\n",
    "    .reset_index(names='kanji') \\\n",
    "    .drop(columns=[\n",
    "        'strokes', 'grade', 'freq', 'jlpt_old', 'jlpt_new', 'meanings', 'wk_level',\n",
    "        'wk_meanings', 'wk_radicals', 'wk_readings_on', 'wk_readings_kun'\n",
    "    ])"
   ]
  },
  {
   "cell_type": "code",
   "execution_count": 29,
   "metadata": {},
   "outputs": [
    {
     "data": {
      "text/html": [
       "<div>\n",
       "<style scoped>\n",
       "    .dataframe tbody tr th:only-of-type {\n",
       "        vertical-align: middle;\n",
       "    }\n",
       "\n",
       "    .dataframe tbody tr th {\n",
       "        vertical-align: top;\n",
       "    }\n",
       "\n",
       "    .dataframe thead th {\n",
       "        text-align: right;\n",
       "    }\n",
       "</style>\n",
       "<table border=\"1\" class=\"dataframe\">\n",
       "  <thead>\n",
       "    <tr style=\"text-align: right;\">\n",
       "      <th></th>\n",
       "      <th>kanji</th>\n",
       "      <th>readings_on</th>\n",
       "      <th>readings_kun</th>\n",
       "    </tr>\n",
       "  </thead>\n",
       "  <tbody>\n",
       "    <tr>\n",
       "      <th>6464</th>\n",
       "      <td>侷</td>\n",
       "      <td>[きょく, ごく]</td>\n",
       "      <td>[たけがひく.い, せま.る]</td>\n",
       "    </tr>\n",
       "    <tr>\n",
       "      <th>11799</th>\n",
       "      <td>髹</td>\n",
       "      <td>[きゅう, く, し]</td>\n",
       "      <td>[うるし]</td>\n",
       "    </tr>\n",
       "    <tr>\n",
       "      <th>12927</th>\n",
       "      <td>荣</td>\n",
       "      <td>[]</td>\n",
       "      <td>[]</td>\n",
       "    </tr>\n",
       "    <tr>\n",
       "      <th>11890</th>\n",
       "      <td>鯘</td>\n",
       "      <td>[だい, ない]</td>\n",
       "      <td>[くさ.る]</td>\n",
       "    </tr>\n",
       "    <tr>\n",
       "      <th>6880</th>\n",
       "      <td>啉</td>\n",
       "      <td>[らん]</td>\n",
       "      <td>[かまびす.しい, むさぼ.る]</td>\n",
       "    </tr>\n",
       "  </tbody>\n",
       "</table>\n",
       "</div>"
      ],
      "text/plain": [
       "      kanji  readings_on      readings_kun\n",
       "6464      侷    [きょく, ごく]   [たけがひく.い, せま.る]\n",
       "11799     髹  [きゅう, く, し]             [うるし]\n",
       "12927     荣           []                []\n",
       "11890     鯘     [だい, ない]            [くさ.る]\n",
       "6880      啉         [らん]  [かまびす.しい, むさぼ.る]"
      ]
     },
     "execution_count": 29,
     "metadata": {},
     "output_type": "execute_result"
    }
   ],
   "source": [
    "df.sample(5)"
   ]
  },
  {
   "cell_type": "code",
   "execution_count": 30,
   "metadata": {},
   "outputs": [
    {
     "data": {
      "text/plain": [
       "kanji           0\n",
       "readings_on     0\n",
       "readings_kun    0\n",
       "dtype: int64"
      ]
     },
     "execution_count": 30,
     "metadata": {},
     "output_type": "execute_result"
    }
   ],
   "source": [
    "# Confirm that the resulting dataset has no nulls\n",
    "df.isna().sum()"
   ]
  },
  {
   "cell_type": "code",
   "execution_count": null,
   "metadata": {},
   "outputs": [],
   "source": []
  }
 ],
 "metadata": {
  "kernelspec": {
   "display_name": "Python 3",
   "language": "python",
   "name": "python3"
  },
  "language_info": {
   "codemirror_mode": {
    "name": "ipython",
    "version": 3
   },
   "file_extension": ".py",
   "mimetype": "text/x-python",
   "name": "python",
   "nbconvert_exporter": "python",
   "pygments_lexer": "ipython3",
   "version": "3.9.6"
  }
 },
 "nbformat": 4,
 "nbformat_minor": 2
}
